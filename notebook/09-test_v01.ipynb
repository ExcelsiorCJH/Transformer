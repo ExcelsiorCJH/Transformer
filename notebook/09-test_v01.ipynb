{
 "cells": [
  {
   "cell_type": "markdown",
   "metadata": {},
   "source": [
    "# Test"
   ]
  },
  {
   "cell_type": "markdown",
   "metadata": {},
   "source": [
    "## 0. imports"
   ]
  },
  {
   "cell_type": "code",
   "execution_count": 1,
   "metadata": {},
   "outputs": [
    {
     "data": {
      "text/html": [
       "\n",
       "                <script type=\"application/javascript\" id=\"jupyter_black\">\n",
       "                (function() {\n",
       "                    if (window.IPython === undefined) {\n",
       "                        return\n",
       "                    }\n",
       "                    var msg = \"WARNING: it looks like you might have loaded \" +\n",
       "                        \"jupyter_black in a non-lab notebook with \" +\n",
       "                        \"`is_lab=True`. Please double check, and if \" +\n",
       "                        \"loading with `%load_ext` please review the README!\"\n",
       "                    console.log(msg)\n",
       "                    alert(msg)\n",
       "                })()\n",
       "                </script>\n",
       "                "
      ],
      "text/plain": [
       "<IPython.core.display.HTML object>"
      ]
     },
     "metadata": {},
     "output_type": "display_data"
    }
   ],
   "source": [
    "%load_ext jupyter_black"
   ]
  },
  {
   "cell_type": "code",
   "execution_count": 2,
   "metadata": {},
   "outputs": [],
   "source": [
    "import sys\n",
    "\n",
    "sys.path.append(\"..\")"
   ]
  },
  {
   "cell_type": "code",
   "execution_count": 39,
   "metadata": {},
   "outputs": [],
   "source": [
    "import os\n",
    "import glob\n",
    "\n",
    "import omegaconf\n",
    "import numpy as np\n",
    "\n",
    "import torch\n",
    "import torch.nn as nn\n",
    "import torch.nn.functional as F\n",
    "from tqdm.auto import tqdm, trange"
   ]
  },
  {
   "cell_type": "code",
   "execution_count": 35,
   "metadata": {},
   "outputs": [],
   "source": [
    "import matplotlib.pyplot as plt"
   ]
  },
  {
   "cell_type": "code",
   "execution_count": 4,
   "metadata": {},
   "outputs": [],
   "source": [
    "from src.dataset import ETTDataModule\n",
    "from src.model import Transformer\n",
    "from src.module import Trainer\n",
    "from src.module.utils import fix_seed"
   ]
  },
  {
   "cell_type": "markdown",
   "metadata": {},
   "source": [
    "## 1. dm"
   ]
  },
  {
   "cell_type": "code",
   "execution_count": 5,
   "metadata": {},
   "outputs": [],
   "source": [
    "config_path = \"./transformer_config.yaml\"\n",
    "config = omegaconf.OmegaConf.load(config_path)"
   ]
  },
  {
   "cell_type": "code",
   "execution_count": 6,
   "metadata": {},
   "outputs": [],
   "source": [
    "dm = ETTDataModule(**config.dm)"
   ]
  },
  {
   "cell_type": "markdown",
   "metadata": {},
   "source": [
    "## 2. model"
   ]
  },
  {
   "cell_type": "code",
   "execution_count": 7,
   "metadata": {},
   "outputs": [],
   "source": [
    "model = Transformer(**config.model)"
   ]
  },
  {
   "cell_type": "markdown",
   "metadata": {},
   "source": [
    "## 3. Train"
   ]
  },
  {
   "cell_type": "code",
   "execution_count": 8,
   "metadata": {},
   "outputs": [],
   "source": [
    "fix_seed(config.train.seed)\n",
    "\n",
    "trainer = Trainer(config=config, model=model, dm=dm)"
   ]
  },
  {
   "cell_type": "code",
   "execution_count": 9,
   "metadata": {},
   "outputs": [
    {
     "data": {
      "application/vnd.jupyter.widget-view+json": {
       "model_id": "04d3db1a92f14313a966692e7264e2e1",
       "version_major": 2,
       "version_minor": 0
      },
      "text/plain": [
       "epoch:   0%|          | 0/20 [00:00<?, ?it/s]"
      ]
     },
     "metadata": {},
     "output_type": "display_data"
    },
    {
     "data": {
      "application/vnd.jupyter.widget-view+json": {
       "model_id": "35a44713ec36441daf172f1698d61233",
       "version_major": 2,
       "version_minor": 0
      },
      "text/plain": [
       "train_steps:   0%|          | 0/264 [00:00<?, ?it/s]"
      ]
     },
     "metadata": {},
     "output_type": "display_data"
    },
    {
     "data": {
      "application/vnd.jupyter.widget-view+json": {
       "model_id": "aa6c9904e2ff421dbd4f782fe3d870be",
       "version_major": 2,
       "version_minor": 0
      },
      "text/plain": [
       "valid_steps:   0%|          | 0/87 [00:00<?, ?it/s]"
      ]
     },
     "metadata": {},
     "output_type": "display_data"
    },
    {
     "data": {
      "application/vnd.jupyter.widget-view+json": {
       "model_id": "b564dd832fac4cc2889b436bd2fe6488",
       "version_major": 2,
       "version_minor": 0
      },
      "text/plain": [
       "train_steps:   0%|          | 0/264 [00:00<?, ?it/s]"
      ]
     },
     "metadata": {},
     "output_type": "display_data"
    },
    {
     "data": {
      "application/vnd.jupyter.widget-view+json": {
       "model_id": "1210f5cf514546e98327247e1627cc0e",
       "version_major": 2,
       "version_minor": 0
      },
      "text/plain": [
       "valid_steps:   0%|          | 0/87 [00:00<?, ?it/s]"
      ]
     },
     "metadata": {},
     "output_type": "display_data"
    },
    {
     "data": {
      "application/vnd.jupyter.widget-view+json": {
       "model_id": "61bd5e767f4b4108ae6eb103fcbd2170",
       "version_major": 2,
       "version_minor": 0
      },
      "text/plain": [
       "train_steps:   0%|          | 0/264 [00:00<?, ?it/s]"
      ]
     },
     "metadata": {},
     "output_type": "display_data"
    },
    {
     "data": {
      "application/vnd.jupyter.widget-view+json": {
       "model_id": "71a5b6660c5b45539627c3876b3e50a1",
       "version_major": 2,
       "version_minor": 0
      },
      "text/plain": [
       "valid_steps:   0%|          | 0/87 [00:00<?, ?it/s]"
      ]
     },
     "metadata": {},
     "output_type": "display_data"
    },
    {
     "data": {
      "application/vnd.jupyter.widget-view+json": {
       "model_id": "b82230e8a43347ee8f45acdd7212795d",
       "version_major": 2,
       "version_minor": 0
      },
      "text/plain": [
       "train_steps:   0%|          | 0/264 [00:00<?, ?it/s]"
      ]
     },
     "metadata": {},
     "output_type": "display_data"
    },
    {
     "data": {
      "application/vnd.jupyter.widget-view+json": {
       "model_id": "94b4d22dd87c450d9bdea0b8f54c6da6",
       "version_major": 2,
       "version_minor": 0
      },
      "text/plain": [
       "valid_steps:   0%|          | 0/87 [00:00<?, ?it/s]"
      ]
     },
     "metadata": {},
     "output_type": "display_data"
    }
   ],
   "source": [
    "version = trainer.fit()"
   ]
  },
  {
   "cell_type": "markdown",
   "metadata": {},
   "source": [
    "## 4. Test"
   ]
  },
  {
   "cell_type": "markdown",
   "metadata": {},
   "source": [
    "### 4.1 load trained model"
   ]
  },
  {
   "cell_type": "code",
   "execution_count": 9,
   "metadata": {},
   "outputs": [],
   "source": [
    "def load_trained_model(config, device: str):\n",
    "    version = config.version\n",
    "    dataset_name = config.dm.dataset_name\n",
    "    task_name = config.model.task_name\n",
    "\n",
    "    ckpt_list = glob.glob(\n",
    "        os.path.join(\n",
    "            config.train.ckpt_dir,\n",
    "            f\"version-{version}-{task_name}-{dataset_name.lower()}/*.pt\",\n",
    "        )\n",
    "    )\n",
    "    ckpt_list = sorted(ckpt_list, key=lambda e: e.split(\"_\")[-1], reverse=True)\n",
    "\n",
    "    state_dict = torch.load(ckpt_list[-1])\n",
    "    model = Transformer(**config.model)\n",
    "    model.load_state_dict(state_dict)\n",
    "    model = model.to(device)\n",
    "\n",
    "    return model"
   ]
  },
  {
   "cell_type": "code",
   "execution_count": 10,
   "metadata": {},
   "outputs": [],
   "source": [
    "config.version = version\n",
    "device = \"cuda\" if torch.cuda.is_available() else \"cpu\"\n",
    "\n",
    "model = load_trained_model(config, device)"
   ]
  },
  {
   "cell_type": "markdown",
   "metadata": {},
   "source": [
    "### 4.2 test"
   ]
  },
  {
   "cell_type": "code",
   "execution_count": 34,
   "metadata": {},
   "outputs": [
    {
     "data": {
      "application/vnd.jupyter.widget-view+json": {
       "model_id": "5812552a2fa54ba3ba65316b06a57dd0",
       "version_major": 2,
       "version_minor": 0
      },
      "text/plain": [
       "  0%|          | 0/2785 [00:00<?, ?it/s]"
      ]
     },
     "metadata": {},
     "output_type": "display_data"
    }
   ],
   "source": [
    "pred_len = config.dm.pred_len\n",
    "label_len = config.dm.label_len\n",
    "task_type = config.dm.task_type\n",
    "\n",
    "inputs = []\n",
    "predicts, targets = [], []\n",
    "model.eval()\n",
    "with torch.no_grad():\n",
    "    for batch in tqdm(dm.test_dataloader(), total=len(dm.test_dataloader())):\n",
    "        batch = {k: v.to(device) for k, v in batch.items()}\n",
    "\n",
    "        # decoder input\n",
    "        dec_inp = torch.zeros_like(batch[\"future_values\"][:, -pred_len:, :]).float()\n",
    "        dec_inp = torch.cat(\n",
    "            [batch[\"future_values\"][:, :label_len, :], dec_inp], dim=1\n",
    "        ).float()\n",
    "\n",
    "        output = model(\n",
    "            past_values=batch[\"past_values\"],\n",
    "            past_time_features=batch[\"past_time_features\"],\n",
    "            future_values=dec_inp.to(device),\n",
    "            future_time_features=batch[\"future_time_features\"],\n",
    "        )\n",
    "        output = output[\"last_hidden_states\"]\n",
    "\n",
    "        f_dim = -1 if task_type == \"MS\" else 0\n",
    "        predict = output[:, -pred_len:, f_dim:]\n",
    "        target = batch[\"future_values\"][:, -pred_len:, f_dim:]\n",
    "\n",
    "        predict = predict.cpu().numpy()\n",
    "        target = target.cpu().numpy()\n",
    "\n",
    "        past_values = batch[\"past_values\"]\n",
    "        past_values = past_values.cpu().numpy()\n",
    "\n",
    "        if dm.scaler is not None:\n",
    "            shape = predict.shape\n",
    "            predict = dm.scaler.inverse_transform(predict.squeeze(0)).reshape(shape)\n",
    "            target = dm.scaler.inverse_transform(target.squeeze(0)).reshape(shape)\n",
    "            past_values = dm.scaler.inverse_transform(past_values.squeeze(0)).reshape(\n",
    "                shape\n",
    "            )\n",
    "\n",
    "        predict = predict[:, :, f_dim:]\n",
    "        target = target[:, :, f_dim:]\n",
    "\n",
    "        inputs.append(past_values)\n",
    "        predicts.append(predict)\n",
    "        targets.append(target)"
   ]
  },
  {
   "cell_type": "code",
   "execution_count": 42,
   "metadata": {},
   "outputs": [],
   "source": [
    "idx = np.random.choice(range(len(inputs)), 1).item()"
   ]
  },
  {
   "cell_type": "code",
   "execution_count": 47,
   "metadata": {},
   "outputs": [],
   "source": [
    "gt = np.concatenate((inputs[idx][0, :, f_dim], targets[idx][0, :, f_dim]), axis=0)\n",
    "pr = np.concatenate((inputs[idx][0, :, f_dim], predicts[idx][0, :, f_dim]), axis=0)"
   ]
  },
  {
   "cell_type": "code",
   "execution_count": 55,
   "metadata": {},
   "outputs": [
    {
     "data": {
      "image/png": "[encoded data removed]",
      "text/plain": [
       "<Figure size 640x480 with 1 Axes>"
      ]
     },
     "metadata": {},
     "output_type": "display_data"
    }
   ],
   "source": [
    "plt.figure()\n",
    "plt.plot(gt, label=\"GroundTruth\", linewidth=2)\n",
    "if pr is not None:\n",
    "    plt.plot(pr, label=\"Prediction\", linewidth=2)\n",
    "plt.legend()\n",
    "plt.show()"
   ]
  },
  {
   "cell_type": "code",
   "execution_count": null,
   "metadata": {},
   "outputs": [],
   "source": []
  }
 ],
 "metadata": {
  "kernelspec": {
   "display_name": "Python 3.9.18 ('fedtracker')",
   "language": "python",
   "name": "python3"
  },
  "language_info": {
   "codemirror_mode": {
    "name": "ipython",
    "version": 3
   },
   "file_extension": ".py",
   "mimetype": "text/x-python",
   "name": "python",
   "nbconvert_exporter": "python",
   "pygments_lexer": "ipython3",
   "version": "3.9.18"
  },
  "orig_nbformat": 4,
  "vscode": {
   "interpreter": {
    "hash": "095ffe90df4ca297051b97375d5904c113ac48c02dcabb78607607a5f0a97f85"
   }
  }
 },
 "nbformat": 4,
 "nbformat_minor": 2
}
