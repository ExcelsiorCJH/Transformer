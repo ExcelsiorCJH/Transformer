{
 "cells": [
  {
   "cell_type": "markdown",
   "metadata": {},
   "source": [
    "# Transformer - Encoder, Decoder layer"
   ]
  },
  {
   "cell_type": "markdown",
   "metadata": {},
   "source": [
    "## 0. imports"
   ]
  },
  {
   "cell_type": "code",
   "execution_count": 1,
   "metadata": {},
   "outputs": [
    {
     "data": {
      "text/html": [
       "\n",
       "                <script type=\"application/javascript\" id=\"jupyter_black\">\n",
       "                (function() {\n",
       "                    if (window.IPython === undefined) {\n",
       "                        return\n",
       "                    }\n",
       "                    var msg = \"WARNING: it looks like you might have loaded \" +\n",
       "                        \"jupyter_black in a non-lab notebook with \" +\n",
       "                        \"`is_lab=True`. Please double check, and if \" +\n",
       "                        \"loading with `%load_ext` please review the README!\"\n",
       "                    console.log(msg)\n",
       "                    alert(msg)\n",
       "                })()\n",
       "                </script>\n",
       "                "
      ],
      "text/plain": [
       "<IPython.core.display.HTML object>"
      ]
     },
     "metadata": {},
     "output_type": "display_data"
    }
   ],
   "source": [
    "%load_ext jupyter_black"
   ]
  },
  {
   "cell_type": "code",
   "execution_count": 2,
   "metadata": {},
   "outputs": [],
   "source": [
    "import sys\n",
    "\n",
    "sys.path.append(\"..\")"
   ]
  },
  {
   "cell_type": "code",
   "execution_count": 3,
   "metadata": {},
   "outputs": [],
   "source": [
    "import torch\n",
    "import torch.nn as nn\n",
    "import torch.nn.functional as F"
   ]
  },
  {
   "cell_type": "code",
   "execution_count": 4,
   "metadata": {},
   "outputs": [],
   "source": [
    "from src.dataset import ETTDataModule\n",
    "from src.model import DataEmbedding\n",
    "from src.model import Attention"
   ]
  },
  {
   "cell_type": "markdown",
   "metadata": {},
   "source": [
    "## 1. prev setting"
   ]
  },
  {
   "cell_type": "code",
   "execution_count": 5,
   "metadata": {},
   "outputs": [],
   "source": [
    "dm_params = {\n",
    "    \"data_path\": \"../data/ETT-small/ETTh1.csv\",\n",
    "    \"task\": \"M\",\n",
    "    \"freq\": \"h\",\n",
    "    \"target\": \"OT\",\n",
    "    \"seq_len\": 96,\n",
    "    \"label_len\": 48,\n",
    "    \"pred_len\": 96,\n",
    "    \"use_scaler\": True,\n",
    "    \"use_time_enc\": True,\n",
    "    \"batch_size\": 32,\n",
    "}\n",
    "\n",
    "\n",
    "dm = ETTDataModule(**dm_params)"
   ]
  },
  {
   "cell_type": "code",
   "execution_count": 6,
   "metadata": {},
   "outputs": [],
   "source": [
    "emb_params = {\n",
    "    \"c_in\": 7,\n",
    "    \"d_model\": 512,\n",
    "    \"embed_type\": \"time_features\",\n",
    "    \"freq\": \"h\",\n",
    "    \"dropout\": 0.1,\n",
    "}\n",
    "\n",
    "embedding = DataEmbedding(**emb_params)"
   ]
  },
  {
   "cell_type": "code",
   "execution_count": 7,
   "metadata": {},
   "outputs": [],
   "source": [
    "attn_params = {\n",
    "    \"d_model\": 512,\n",
    "    \"n_heads\": 8,\n",
    "    \"d_keys\": None,\n",
    "    \"d_values\": None,\n",
    "    \"scale\": None,\n",
    "    \"attention_dropout\": 0.1,\n",
    "    \"output_attention\": True,\n",
    "}\n",
    "\n",
    "attn_layer = Attention(**attn_params)"
   ]
  },
  {
   "cell_type": "code",
   "execution_count": 8,
   "metadata": {},
   "outputs": [],
   "source": [
    "train_dataloader = dm.train_dataloader()\n",
    "batch = next(iter(train_dataloader))"
   ]
  },
  {
   "cell_type": "code",
   "execution_count": 9,
   "metadata": {},
   "outputs": [],
   "source": [
    "x = embedding(x=batch[\"past_values\"], x_features=batch[\"past_time_features\"])\n",
    "\n",
    "new_x, attn = attn_layer(queries=x, keys=x, values=x)"
   ]
  },
  {
   "cell_type": "markdown",
   "metadata": {},
   "source": [
    "## 2. Encoder Layer"
   ]
  },
  {
   "cell_type": "markdown",
   "metadata": {},
   "source": [
    "### 2.1 line by line"
   ]
  },
  {
   "cell_type": "code",
   "execution_count": 10,
   "metadata": {},
   "outputs": [],
   "source": [
    "d_model = 512\n",
    "dropout = 0.1\n",
    "activation = \"gelu\"\n",
    "\n",
    "d_ff = 2048"
   ]
  },
  {
   "cell_type": "code",
   "execution_count": 11,
   "metadata": {},
   "outputs": [],
   "source": [
    "d_ff = d_ff or 4 * d_model\n",
    "conv1 = nn.Conv1d(in_channels=d_model, out_channels=d_ff, kernel_size=1)\n",
    "conv2 = nn.Conv1d(in_channels=d_ff, out_channels=d_model, kernel_size=1)\n",
    "norm1 = nn.LayerNorm(d_model)\n",
    "norm2 = nn.LayerNorm(d_model)\n",
    "dropout = nn.Dropout(dropout)\n",
    "activation = F.relu if activation == \"relu\" else F.gelu"
   ]
  },
  {
   "cell_type": "code",
   "execution_count": 12,
   "metadata": {},
   "outputs": [],
   "source": [
    "x = x + dropout(new_x)\n",
    "y = x = norm1(x)\n",
    "\n",
    "y = dropout(activation(conv1(y.transpose(-1, 1))))\n",
    "y = dropout(conv2(y).transpose(-1, 1))\n",
    "out = norm2(x + y)"
   ]
  },
  {
   "cell_type": "markdown",
   "metadata": {},
   "source": [
    "### 2.2 EncoderLayer class"
   ]
  },
  {
   "cell_type": "code",
   "execution_count": 13,
   "metadata": {},
   "outputs": [],
   "source": [
    "class EncoderLayer(nn.Module):\n",
    "    def __init__(\n",
    "        self,\n",
    "        attention: nn.Module,\n",
    "        d_model: int,\n",
    "        d_ff: int = None,\n",
    "        dropout: float = 0.1,\n",
    "        activation: str = \"relu\",\n",
    "    ):\n",
    "        super(EncoderLayer, self).__init__()\n",
    "\n",
    "        d_ff = d_ff or 4 * d_model\n",
    "        self.attention = attention\n",
    "        self.conv1 = nn.Conv1d(in_channels=d_model, out_channels=d_ff, kernel_size=1)\n",
    "        self.conv2 = nn.Conv1d(in_channels=d_ff, out_channels=d_model, kernel_size=1)\n",
    "        self.norm1 = nn.LayerNorm(d_model)\n",
    "        self.norm2 = nn.LayerNorm(d_model)\n",
    "        self.dropout = nn.Dropout(dropout)\n",
    "        self.activation = F.relu if activation == \"relu\" else F.gelu\n",
    "\n",
    "    def forward(self, x: torch.Tensor):\n",
    "        # 1. compute attention\n",
    "        new_x, attn = self.attention(queries=x, keys=x, values=x)\n",
    "\n",
    "        # 2. add and norm\n",
    "        x = x + self.dropout(new_x)\n",
    "        y = x = self.norm1(x)\n",
    "\n",
    "        # 3. positionwise feed forward\n",
    "        y = self.dropout(self.activation(self.conv1(y.transpose(-1, 1))))\n",
    "        y = self.dropout(self.conv2(y).transpose(-1, 1))\n",
    "\n",
    "        return self.norm2(x + y), attn"
   ]
  },
  {
   "cell_type": "code",
   "execution_count": 14,
   "metadata": {},
   "outputs": [],
   "source": [
    "enc_layer_params = {\n",
    "    \"attention\": Attention(**attn_params),\n",
    "    \"d_model\": 512,\n",
    "    \"d_ff\": 2048,\n",
    "    \"dropout\": 0.1,\n",
    "    \"activation\": \"gelu\",\n",
    "}\n",
    "\n",
    "enc_layer = EncoderLayer(**enc_layer_params)"
   ]
  },
  {
   "cell_type": "code",
   "execution_count": 15,
   "metadata": {},
   "outputs": [
    {
     "data": {
      "text/plain": [
       "EncoderLayer(\n",
       "  (attention): Attention(\n",
       "    (query_projection): Linear(in_features=512, out_features=512, bias=True)\n",
       "    (key_projection): Linear(in_features=512, out_features=512, bias=True)\n",
       "    (value_projection): Linear(in_features=512, out_features=512, bias=True)\n",
       "    (out_projection): Linear(in_features=512, out_features=512, bias=True)\n",
       "    (dropout): Dropout(p=0.1, inplace=False)\n",
       "  )\n",
       "  (conv1): Conv1d(512, 2048, kernel_size=(1,), stride=(1,))\n",
       "  (conv2): Conv1d(2048, 512, kernel_size=(1,), stride=(1,))\n",
       "  (norm1): LayerNorm((512,), eps=1e-05, elementwise_affine=True)\n",
       "  (norm2): LayerNorm((512,), eps=1e-05, elementwise_affine=True)\n",
       "  (dropout): Dropout(p=0.1, inplace=False)\n",
       ")"
      ]
     },
     "execution_count": 15,
     "metadata": {},
     "output_type": "execute_result"
    }
   ],
   "source": [
    "enc_layer"
   ]
  },
  {
   "cell_type": "code",
   "execution_count": 16,
   "metadata": {},
   "outputs": [],
   "source": [
    "x = embedding(x=batch[\"past_values\"], x_features=batch[\"past_time_features\"])\n",
    "out, attn = enc_layer(x)"
   ]
  },
  {
   "cell_type": "code",
   "execution_count": 17,
   "metadata": {},
   "outputs": [
    {
     "data": {
      "text/plain": [
       "torch.Size([32, 96, 512])"
      ]
     },
     "execution_count": 17,
     "metadata": {},
     "output_type": "execute_result"
    }
   ],
   "source": [
    "out.shape"
   ]
  },
  {
   "cell_type": "code",
   "execution_count": 48,
   "metadata": {},
   "outputs": [
    {
     "data": {
      "text/plain": [
       "torch.Size([32, 8, 96, 96])"
      ]
     },
     "execution_count": 48,
     "metadata": {},
     "output_type": "execute_result"
    }
   ],
   "source": [
    "attn.shape"
   ]
  },
  {
   "cell_type": "markdown",
   "metadata": {},
   "source": [
    "## 3. Encoder block"
   ]
  },
  {
   "cell_type": "markdown",
   "metadata": {},
   "source": [
    "### 3.1 line by line"
   ]
  },
  {
   "cell_type": "code",
   "execution_count": 18,
   "metadata": {},
   "outputs": [],
   "source": [
    "num_layers = 2\n",
    "norm_layer = None\n",
    "\n",
    "encoder_layers = nn.ModuleList(\n",
    "    [EncoderLayer(**enc_layer_params) for _ in range(num_layers)]\n",
    ")"
   ]
  },
  {
   "cell_type": "code",
   "execution_count": 19,
   "metadata": {},
   "outputs": [],
   "source": [
    "x = embedding(x=batch[\"past_values\"], x_features=batch[\"past_time_features\"])\n",
    "\n",
    "attns = []\n",
    "for enc_layer in encoder_layers:\n",
    "    x, attn = enc_layer(x)\n",
    "    attns.append(attn)"
   ]
  },
  {
   "cell_type": "code",
   "execution_count": 20,
   "metadata": {},
   "outputs": [],
   "source": [
    "if norm_layer is not None:\n",
    "    x = norm_layer(x)"
   ]
  },
  {
   "cell_type": "markdown",
   "metadata": {},
   "source": [
    "### 3.2 Encoder class"
   ]
  },
  {
   "cell_type": "code",
   "execution_count": 21,
   "metadata": {},
   "outputs": [],
   "source": [
    "class Encoder(nn.Module):\n",
    "    def __init__(self, enc_layers: list[nn.Module], norm_layer: nn.Module = None):\n",
    "        super(Encoder, self).__init__()\n",
    "\n",
    "        self.enc_layers = nn.ModuleList(enc_layers)\n",
    "        self.norm_layer = norm_layer\n",
    "\n",
    "    def forward(self, x: torch.Tensor):\n",
    "        attns = []\n",
    "        for enc_layer in self.enc_layers:\n",
    "            x, attn = enc_layer(x)\n",
    "            attns.append(attn)\n",
    "\n",
    "        if self.norm_layer is not None:\n",
    "            x = self.norm_layer(x)\n",
    "\n",
    "        return x, attns"
   ]
  },
  {
   "cell_type": "code",
   "execution_count": 22,
   "metadata": {},
   "outputs": [],
   "source": [
    "d_model = 512\n",
    "num_enc_layers: int = 2\n",
    "\n",
    "encoder = Encoder(\n",
    "    enc_layers=[EncoderLayer(**enc_layer_params) for _ in range(num_enc_layers)],\n",
    "    norm_layer=nn.LayerNorm(d_model),\n",
    ")"
   ]
  },
  {
   "cell_type": "code",
   "execution_count": 23,
   "metadata": {},
   "outputs": [],
   "source": [
    "x = embedding(x=batch[\"past_values\"], x_features=batch[\"past_time_features\"])\n",
    "out, attns = encoder(x)"
   ]
  },
  {
   "cell_type": "code",
   "execution_count": 24,
   "metadata": {},
   "outputs": [
    {
     "data": {
      "text/plain": [
       "torch.Size([32, 96, 512])"
      ]
     },
     "execution_count": 24,
     "metadata": {},
     "output_type": "execute_result"
    }
   ],
   "source": [
    "out.shape"
   ]
  },
  {
   "cell_type": "code",
   "execution_count": 25,
   "metadata": {},
   "outputs": [
    {
     "data": {
      "text/plain": [
       "2"
      ]
     },
     "execution_count": 25,
     "metadata": {},
     "output_type": "execute_result"
    }
   ],
   "source": [
    "len(attns)"
   ]
  },
  {
   "cell_type": "markdown",
   "metadata": {},
   "source": [
    "## 4. Decoder Layer"
   ]
  },
  {
   "cell_type": "markdown",
   "metadata": {},
   "source": [
    "### 4.1 line by line"
   ]
  },
  {
   "cell_type": "code",
   "execution_count": 26,
   "metadata": {},
   "outputs": [],
   "source": [
    "pred_len = 96\n",
    "label_len = 48\n",
    "\n",
    "x = embedding(x=batch[\"past_values\"], x_features=batch[\"past_time_features\"])\n",
    "enc_out, attn = enc_layer(x)\n",
    "\n",
    "# decoder input\n",
    "dec_inp = torch.zeros_like(batch[\"future_values\"][:, -pred_len:, :]).float()\n",
    "dec_inp = torch.cat([batch[\"future_values\"][:, :label_len, :], dec_inp], dim=1).float()"
   ]
  },
  {
   "cell_type": "code",
   "execution_count": 27,
   "metadata": {},
   "outputs": [],
   "source": [
    "# dec embedding\n",
    "emb_params = {\n",
    "    \"c_in\": 7,\n",
    "    \"d_model\": 512,\n",
    "    \"embed_type\": \"time_features\",\n",
    "    \"freq\": \"h\",\n",
    "    \"dropout\": 0.1,\n",
    "}\n",
    "\n",
    "dec_embedding = DataEmbedding(**emb_params)"
   ]
  },
  {
   "cell_type": "code",
   "execution_count": 28,
   "metadata": {},
   "outputs": [],
   "source": [
    "# self & cross attention\n",
    "attn_params = {\n",
    "    \"d_model\": 512,\n",
    "    \"n_heads\": 8,\n",
    "    \"d_keys\": None,\n",
    "    \"d_values\": None,\n",
    "    \"scale\": None,\n",
    "    \"attention_dropout\": 0.1,\n",
    "    \"output_attention\": True,\n",
    "}\n",
    "\n",
    "self_attention = Attention(**attn_params)\n",
    "cross_attention = Attention(**attn_params)"
   ]
  },
  {
   "cell_type": "code",
   "execution_count": 29,
   "metadata": {},
   "outputs": [],
   "source": [
    "dropout = 0.1\n",
    "activation = \"gelu\"\n",
    "\n",
    "\n",
    "conv1 = nn.Conv1d(in_channels=d_model, out_channels=d_ff, kernel_size=1)\n",
    "conv2 = nn.Conv1d(in_channels=d_ff, out_channels=d_model, kernel_size=1)\n",
    "norm1 = nn.LayerNorm(d_model)\n",
    "norm2 = nn.LayerNorm(d_model)\n",
    "norm3 = nn.LayerNorm(d_model)\n",
    "dropout = nn.Dropout(dropout)\n",
    "activation = F.relu if activation == \"relu\" else F.gelu"
   ]
  },
  {
   "cell_type": "code",
   "execution_count": 30,
   "metadata": {},
   "outputs": [],
   "source": [
    "x = dec_embedding(dec_inp, batch[\"future_time_features\"])\n",
    "\n",
    "x = x + dropout(self_attention(queries=x, keys=x, values=x)[0])\n",
    "x = norm1(x)\n",
    "\n",
    "x = x + dropout(cross_attention(queries=x, keys=enc_out, values=enc_out)[0])\n",
    "y = x = norm2(x)\n",
    "y = dropout(activation(conv1(y.transpose(-1, 1))))\n",
    "y = dropout(conv2(y).transpose(-1, 1))\n",
    "out = norm3(x + y)"
   ]
  },
  {
   "cell_type": "markdown",
   "metadata": {},
   "source": [
    "### 4.2 DecoderLayer Class"
   ]
  },
  {
   "cell_type": "code",
   "execution_count": 42,
   "metadata": {},
   "outputs": [],
   "source": [
    "class DecoderLayer(nn.Module):\n",
    "    def __init__(\n",
    "        self,\n",
    "        self_attention: nn.Module,\n",
    "        cross_attention: nn.Module,\n",
    "        d_model: int,\n",
    "        d_ff: int = None,\n",
    "        dropout: float = 0.1,\n",
    "        activation: str = \"relu\",\n",
    "    ):\n",
    "        super(DecoderLayer, self).__init__()\n",
    "\n",
    "        d_ff = d_ff or 4 * d_model\n",
    "        self.self_attention = self_attention\n",
    "        self.cross_attention = cross_attention\n",
    "        self.conv1 = nn.Conv1d(in_channels=d_model, out_channels=d_ff, kernel_size=1)\n",
    "        self.conv2 = nn.Conv1d(in_channels=d_ff, out_channels=d_model, kernel_size=1)\n",
    "        self.norm1 = nn.LayerNorm(d_model)\n",
    "        self.norm2 = nn.LayerNorm(d_model)\n",
    "        self.norm3 = nn.LayerNorm(d_model)\n",
    "        self.dropout = nn.Dropout(dropout)\n",
    "        self.activation = F.relu if activation == \"relu\" else F.gelu\n",
    "\n",
    "    def forward(self, x: torch.Tensor, enc_out: torch.Tensor):\n",
    "        # 1. compute self attention\n",
    "        new_x, dec_attn = self.self_attention(queries=x, keys=x, values=x)\n",
    "        x = x + self.dropout(new_x)\n",
    "        x = self.norm1(x)\n",
    "\n",
    "        # 2. compute cross attention\n",
    "        new_x, cross_attn = self.cross_attention(\n",
    "            queries=x, keys=enc_out, values=enc_out\n",
    "        )\n",
    "        x = x + self.dropout(new_x)\n",
    "        y = x = self.norm2(x)\n",
    "\n",
    "        # 3. positionwise feed forward\n",
    "        y = self.dropout(self.activation(self.conv1(y.transpose(-1, 1))))\n",
    "        y = self.dropout(self.conv2(y).transpose(-1, 1))\n",
    "\n",
    "        return self.norm3(x + y), dec_attn, cross_attn"
   ]
  },
  {
   "cell_type": "code",
   "execution_count": 43,
   "metadata": {},
   "outputs": [],
   "source": [
    "dec_layer_params = {\n",
    "    \"self_attention\": Attention(**attn_params),\n",
    "    \"cross_attention\": Attention(**attn_params),\n",
    "    \"d_model\": 512,\n",
    "    \"d_ff\": 2048,\n",
    "    \"dropout\": 0.1,\n",
    "    \"activation\": \"gelu\",\n",
    "}\n",
    "\n",
    "dec_layer = DecoderLayer(**dec_layer_params)"
   ]
  },
  {
   "cell_type": "code",
   "execution_count": 44,
   "metadata": {},
   "outputs": [],
   "source": [
    "x = dec_embedding(dec_inp, batch[\"future_time_features\"])\n",
    "\n",
    "out, dec_attn, cross_attn = dec_layer(x, enc_out)"
   ]
  },
  {
   "cell_type": "code",
   "execution_count": 45,
   "metadata": {},
   "outputs": [
    {
     "data": {
      "text/plain": [
       "torch.Size([32, 144, 512])"
      ]
     },
     "execution_count": 45,
     "metadata": {},
     "output_type": "execute_result"
    }
   ],
   "source": [
    "out.shape"
   ]
  },
  {
   "cell_type": "code",
   "execution_count": 46,
   "metadata": {},
   "outputs": [
    {
     "data": {
      "text/plain": [
       "torch.Size([32, 8, 144, 144])"
      ]
     },
     "execution_count": 46,
     "metadata": {},
     "output_type": "execute_result"
    }
   ],
   "source": [
    "dec_attn.shape"
   ]
  },
  {
   "cell_type": "code",
   "execution_count": 47,
   "metadata": {},
   "outputs": [
    {
     "data": {
      "text/plain": [
       "torch.Size([32, 8, 144, 96])"
      ]
     },
     "execution_count": 47,
     "metadata": {},
     "output_type": "execute_result"
    }
   ],
   "source": [
    "cross_attn.shape"
   ]
  },
  {
   "cell_type": "markdown",
   "metadata": {},
   "source": [
    "## 5. Decoder block"
   ]
  },
  {
   "cell_type": "markdown",
   "metadata": {},
   "source": [
    "### 5.1 line by line"
   ]
  },
  {
   "cell_type": "code",
   "execution_count": 35,
   "metadata": {},
   "outputs": [],
   "source": [
    "num_dec_layers = 1\n",
    "norm_layer = None\n",
    "projection = None\n",
    "\n",
    "decoder_layers = nn.ModuleList(\n",
    "    [DecoderLayer(**dec_layer_params) for _ in range(num_layers)]\n",
    ")"
   ]
  },
  {
   "cell_type": "code",
   "execution_count": 36,
   "metadata": {},
   "outputs": [],
   "source": [
    "x = dec_embedding(dec_inp, batch[\"future_time_features\"])\n",
    "\n",
    "for layer in decoder_layers:\n",
    "    x = layer(x, enc_out)\n",
    "\n",
    "if norm_layer is not None:\n",
    "    x = norm_layer(x)\n",
    "\n",
    "if projection is not None:\n",
    "    x = projection(x)"
   ]
  },
  {
   "cell_type": "markdown",
   "metadata": {},
   "source": [
    "### 5.2 Decoder Class"
   ]
  },
  {
   "cell_type": "code",
   "execution_count": 49,
   "metadata": {},
   "outputs": [],
   "source": [
    "class Decoder(nn.Module):\n",
    "    def __init__(\n",
    "        self,\n",
    "        dec_layers: list[nn.Module],\n",
    "        norm_layer: nn.Module = None,\n",
    "        projection: nn.Module = None,\n",
    "    ):\n",
    "        super(Decoder, self).__init__()\n",
    "\n",
    "        self.dec_layers = nn.ModuleList(dec_layers)\n",
    "        self.norm_layer = norm_layer\n",
    "        self.projection = projection\n",
    "\n",
    "    def forward(self, x: torch.Tensor, enc_out: torch.Tensor):\n",
    "        dec_attns, cross_attns = [], []\n",
    "        for dec_layer in self.dec_layers:\n",
    "            x, dec_attn, cross_attn = dec_layer(x, enc_out)\n",
    "            dec_attns.append(dec_attn)\n",
    "            cross_attns.append(cross_attn)\n",
    "\n",
    "        if self.norm_layer is not None:\n",
    "            x = self.norm_layer(x)\n",
    "\n",
    "        if self.projection is not None:\n",
    "            x = self.projection(x)\n",
    "\n",
    "        return x, dec_attns, cross_attns"
   ]
  },
  {
   "cell_type": "code",
   "execution_count": 50,
   "metadata": {},
   "outputs": [],
   "source": [
    "d_model = 512\n",
    "num_dec_layers: int = 2\n",
    "c_out = 7\n",
    "\n",
    "decoder = Decoder(\n",
    "    dec_layers=[DecoderLayer(**dec_layer_params) for _ in range(num_dec_layers)],\n",
    "    norm_layer=nn.LayerNorm(d_model),\n",
    "    projection=nn.Linear(d_model, c_out),\n",
    ")"
   ]
  },
  {
   "cell_type": "code",
   "execution_count": 52,
   "metadata": {},
   "outputs": [],
   "source": [
    "x = dec_embedding(dec_inp, batch[\"future_time_features\"])\n",
    "\n",
    "dec_out, dec_attns, cross_attns = decoder(x, enc_out)"
   ]
  },
  {
   "cell_type": "code",
   "execution_count": 53,
   "metadata": {},
   "outputs": [
    {
     "data": {
      "text/plain": [
       "torch.Size([32, 144, 7])"
      ]
     },
     "execution_count": 53,
     "metadata": {},
     "output_type": "execute_result"
    }
   ],
   "source": [
    "dec_out.shape"
   ]
  },
  {
   "cell_type": "code",
   "execution_count": null,
   "metadata": {},
   "outputs": [],
   "source": []
  }
 ],
 "metadata": {
  "kernelspec": {
   "display_name": "Python 3.9.18 ('fedtracker')",
   "language": "python",
   "name": "python3"
  },
  "language_info": {
   "codemirror_mode": {
    "name": "ipython",
    "version": 3
   },
   "file_extension": ".py",
   "mimetype": "text/x-python",
   "name": "python",
   "nbconvert_exporter": "python",
   "pygments_lexer": "ipython3",
   "version": "3.9.18"
  },
  "orig_nbformat": 4,
  "vscode": {
   "interpreter": {
    "hash": "095ffe90df4ca297051b97375d5904c113ac48c02dcabb78607607a5f0a97f85"
   }
  }
 },
 "nbformat": 4,
 "nbformat_minor": 2
}
