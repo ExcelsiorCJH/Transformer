{
 "cells": [
  {
   "cell_type": "markdown",
   "metadata": {},
   "source": [
    "# Transformer - Probabilistic Forecast"
   ]
  },
  {
   "cell_type": "markdown",
   "metadata": {},
   "source": [
    "## 0. imports"
   ]
  },
  {
   "cell_type": "code",
   "execution_count": 1,
   "metadata": {},
   "outputs": [
    {
     "data": {
      "text/html": [
       "\n",
       "                <script type=\"application/javascript\" id=\"jupyter_black\">\n",
       "                (function() {\n",
       "                    if (window.IPython === undefined) {\n",
       "                        return\n",
       "                    }\n",
       "                    var msg = \"WARNING: it looks like you might have loaded \" +\n",
       "                        \"jupyter_black in a non-lab notebook with \" +\n",
       "                        \"`is_lab=True`. Please double check, and if \" +\n",
       "                        \"loading with `%load_ext` please review the README!\"\n",
       "                    console.log(msg)\n",
       "                    alert(msg)\n",
       "                })()\n",
       "                </script>\n",
       "                "
      ],
      "text/plain": [
       "<IPython.core.display.HTML object>"
      ]
     },
     "metadata": {},
     "output_type": "display_data"
    }
   ],
   "source": [
    "%load_ext jupyter_black"
   ]
  },
  {
   "cell_type": "code",
   "execution_count": 2,
   "metadata": {},
   "outputs": [],
   "source": [
    "import sys\n",
    "\n",
    "sys.path.append(\"..\")"
   ]
  },
  {
   "cell_type": "code",
   "execution_count": 3,
   "metadata": {},
   "outputs": [],
   "source": [
    "import torch\n",
    "import torch.nn as nn\n",
    "import torch.nn.functional as F\n",
    "\n",
    "from collections import namedtuple"
   ]
  },
  {
   "cell_type": "code",
   "execution_count": 4,
   "metadata": {},
   "outputs": [],
   "source": [
    "from src.dataset import ETTDataModule\n",
    "from src.model import Transformer"
   ]
  },
  {
   "cell_type": "markdown",
   "metadata": {},
   "source": [
    "## 1. prev setting"
   ]
  },
  {
   "cell_type": "code",
   "execution_count": 5,
   "metadata": {},
   "outputs": [],
   "source": [
    "dm_params = {\n",
    "    \"data_path\": \"../data/ETT-small/ETTh1.csv\",\n",
    "    \"task\": \"M\",\n",
    "    \"freq\": \"h\",\n",
    "    \"target\": \"OT\",\n",
    "    \"seq_len\": 96,\n",
    "    \"label_len\": 48,\n",
    "    \"pred_len\": 96,\n",
    "    \"use_scaler\": True,\n",
    "    \"use_time_enc\": True,\n",
    "    \"batch_size\": 32,\n",
    "}\n",
    "\n",
    "\n",
    "dm = ETTDataModule(**dm_params)"
   ]
  },
  {
   "cell_type": "code",
   "execution_count": 6,
   "metadata": {},
   "outputs": [],
   "source": [
    "# transformer_params\n",
    "Config = namedtuple(\n",
    "    \"Config\",\n",
    "    [\n",
    "        \"task_name\",\n",
    "        \"pred_len\",\n",
    "        \"seq_len\",\n",
    "        \"num_class\",\n",
    "        \"enc_in\",\n",
    "        \"dec_in\",\n",
    "        \"c_out\",\n",
    "        \"d_model\",\n",
    "        \"embed_type\",\n",
    "        \"freq\",\n",
    "        \"dropout\",\n",
    "        \"n_heads\",\n",
    "        \"d_keys\",\n",
    "        \"d_values\",\n",
    "        \"d_ff\",\n",
    "        \"scale\",\n",
    "        \"attention_dropout\",\n",
    "        \"output_attention\",\n",
    "        \"activation\",\n",
    "        \"num_enc_layers\",\n",
    "        \"num_dec_layers\",\n",
    "    ],\n",
    ")\n",
    "\n",
    "configs = Config(\n",
    "    task_name=\"long_term_forecast\",\n",
    "    pred_len=96,\n",
    "    seq_len=None,\n",
    "    num_class=None,\n",
    "    enc_in=7,\n",
    "    dec_in=7,\n",
    "    c_out=7,\n",
    "    d_model=512,\n",
    "    embed_type=\"time_features\",\n",
    "    freq=\"h\",\n",
    "    dropout=0.1,\n",
    "    n_heads=8,\n",
    "    d_keys=None,\n",
    "    d_values=None,\n",
    "    d_ff=2048,\n",
    "    scale=None,\n",
    "    attention_dropout=0.1,\n",
    "    output_attention=True,\n",
    "    activation=\"gelu\",\n",
    "    num_enc_layers=2,\n",
    "    num_dec_layers=1,\n",
    ")"
   ]
  },
  {
   "cell_type": "code",
   "execution_count": 7,
   "metadata": {},
   "outputs": [],
   "source": [
    "model = Transformer(**configs._asdict())"
   ]
  },
  {
   "cell_type": "code",
   "execution_count": 8,
   "metadata": {},
   "outputs": [],
   "source": [
    "train_dataloader = dm.train_dataloader()\n",
    "batch = next(iter(train_dataloader))\n",
    "\n",
    "# decoder input\n",
    "label_len = 48\n",
    "dec_inp = torch.zeros_like(batch[\"future_values\"][:, -configs.pred_len :, :]).float()\n",
    "dec_inp = torch.cat([batch[\"future_values\"][:, :label_len, :], dec_inp], dim=1).float()"
   ]
  },
  {
   "cell_type": "code",
   "execution_count": 9,
   "metadata": {},
   "outputs": [],
   "source": [
    "output = model(\n",
    "    past_values=batch[\"past_values\"],\n",
    "    past_time_features=batch[\"past_time_features\"],\n",
    "    future_values=dec_inp,\n",
    "    future_time_features=batch[\"future_time_features\"],\n",
    ")"
   ]
  },
  {
   "cell_type": "code",
   "execution_count": 10,
   "metadata": {},
   "outputs": [
    {
     "data": {
      "text/plain": [
       "tensor([[[ 1.4697e-01,  2.4226e-01,  5.7979e-01,  ...,  6.0425e-02,\n",
       "           5.2178e-01, -9.6369e-01],\n",
       "         [-4.5724e-01,  2.4037e-01,  3.7841e-01,  ..., -2.5933e-01,\n",
       "          -1.4227e-01, -8.8774e-01],\n",
       "         [-7.5708e-02,  4.1595e-01,  8.3183e-02,  ..., -9.3486e-02,\n",
       "          -4.3231e-02, -1.0589e+00],\n",
       "         ...,\n",
       "         [-4.2479e-01, -4.7453e-01, -1.8556e-01,  ..., -2.9091e-01,\n",
       "          -4.2509e-01,  2.9490e-01],\n",
       "         [-8.1531e-01, -2.8585e-01, -4.5066e-01,  ..., -2.7453e-01,\n",
       "          -5.0399e-01,  1.7170e-01],\n",
       "         [ 2.8647e-01,  1.9075e-01, -3.4138e-01,  ...,  4.4736e-01,\n",
       "          -3.9099e-01, -5.8855e-01]],\n",
       "\n",
       "        [[ 5.0552e-01,  4.8843e-01,  9.7230e-01,  ..., -1.2926e+00,\n",
       "          -6.2685e-01,  7.5700e-01],\n",
       "         [-4.7728e-01, -1.4420e-01,  3.0957e-01,  ..., -1.0300e+00,\n",
       "          -6.8098e-01,  1.2413e+00],\n",
       "         [-4.6419e-01, -4.2672e-02,  5.7442e-01,  ..., -1.0454e+00,\n",
       "          -4.6309e-01,  7.8459e-01],\n",
       "         ...,\n",
       "         [-5.0567e-01, -6.7127e-01,  1.9565e-01,  ..., -5.6719e-01,\n",
       "          -2.6959e-01,  4.4313e-01],\n",
       "         [-9.7654e-01,  1.6140e-01,  1.3528e-01,  ...,  4.7932e-02,\n",
       "          -2.9380e-01,  6.9935e-01],\n",
       "         [-2.6430e-01,  7.8346e-02,  7.3194e-01,  ..., -7.0833e-01,\n",
       "          -8.1415e-01,  1.0296e+00]],\n",
       "\n",
       "        [[ 5.7993e-01,  6.7505e-01,  2.9367e-01,  ..., -6.1482e-01,\n",
       "          -3.4163e-01, -3.8777e-01],\n",
       "         [-3.6300e-01,  7.5226e-02,  4.7976e-01,  ..., -5.0079e-01,\n",
       "          -5.6366e-01, -8.1866e-01],\n",
       "         [-5.7684e-01,  9.9650e-01,  3.9541e-01,  ..., -4.0159e-01,\n",
       "          -1.2314e-01, -7.8091e-01],\n",
       "         ...,\n",
       "         [-7.2016e-01, -7.9047e-01,  5.3616e-02,  ..., -3.6548e-01,\n",
       "          -6.2049e-01,  4.0749e-01],\n",
       "         [-7.9199e-01, -3.6191e-01,  2.2725e-04,  ..., -2.3265e-01,\n",
       "          -3.7970e-01,  1.0107e+00],\n",
       "         [-7.1924e-02,  7.1689e-01,  4.4844e-01,  ..., -4.2246e-01,\n",
       "          -4.3224e-01, -1.7250e-01]],\n",
       "\n",
       "        ...,\n",
       "\n",
       "        [[-4.8415e-01,  2.3515e-01,  1.7985e+00,  ..., -1.7001e+00,\n",
       "          -6.7531e-01,  3.9779e-01],\n",
       "         [ 3.2680e-01,  1.6424e-01,  1.3557e+00,  ..., -1.7118e+00,\n",
       "          -3.6597e-01, -1.7837e-01],\n",
       "         [ 8.4961e-02,  6.7324e-03,  8.8065e-01,  ..., -1.6418e+00,\n",
       "          -7.4611e-01,  1.3725e-01],\n",
       "         ...,\n",
       "         [-8.5847e-01, -8.8060e-01, -2.1998e-01,  ..., -4.2720e-01,\n",
       "          -7.8644e-01,  6.9345e-01],\n",
       "         [-7.7164e-01, -8.1090e-01, -9.9511e-02,  ..., -9.9689e-02,\n",
       "          -1.6103e-01,  7.3593e-01],\n",
       "         [-8.2851e-01, -8.0983e-01, -8.6398e-02,  ..., -6.6645e-01,\n",
       "          -4.3602e-01,  1.0590e+00]],\n",
       "\n",
       "        [[-8.6540e-01, -4.5070e-01,  5.5537e-02,  ..., -4.3636e-01,\n",
       "          -7.7627e-01,  3.3436e-01],\n",
       "         [-3.8079e-01, -5.0749e-01,  6.9294e-02,  ..., -5.9996e-01,\n",
       "           2.2791e-01,  6.6860e-01],\n",
       "         [-4.4822e-01, -3.9522e-01,  4.7236e-01,  ..., -4.5880e-01,\n",
       "           2.2150e-01,  5.6902e-01],\n",
       "         ...,\n",
       "         [-5.4666e-01, -2.3600e-01,  4.1411e-01,  ...,  1.7585e-01,\n",
       "          -3.6099e-01,  8.7800e-01],\n",
       "         [-9.2519e-01, -5.7260e-01,  5.2710e-02,  ..., -1.6433e-02,\n",
       "          -7.1128e-01,  9.3665e-01],\n",
       "         [-1.5291e+00, -5.5656e-01, -6.5742e-01,  ...,  3.3618e-01,\n",
       "          -4.1320e-01,  1.2712e+00]],\n",
       "\n",
       "        [[ 1.2102e-01,  2.8000e-01,  3.4145e-01,  ..., -1.1051e+00,\n",
       "           7.5321e-01, -9.6553e-02],\n",
       "         [-5.6153e-01, -1.5703e-01,  2.5564e-01,  ..., -6.9261e-01,\n",
       "           8.5259e-01,  3.1222e-01],\n",
       "         [-6.0496e-01, -2.9305e-01,  1.5764e-01,  ..., -5.8503e-01,\n",
       "           6.9474e-01, -4.5272e-01],\n",
       "         ...,\n",
       "         [-9.1414e-01, -6.5781e-01, -3.1883e-01,  ..., -1.7771e-01,\n",
       "          -3.4911e-01,  5.0055e-01],\n",
       "         [-1.5137e+00, -6.1366e-01, -9.3062e-02,  ..., -1.1614e-01,\n",
       "          -4.9916e-01,  4.6139e-01],\n",
       "         [-4.5508e-01,  1.9128e-01,  6.2452e-01,  ..., -2.3718e-02,\n",
       "          -1.9031e-01,  2.2113e-01]]], grad_fn=<ViewBackward0>)"
      ]
     },
     "execution_count": 10,
     "metadata": {},
     "output_type": "execute_result"
    }
   ],
   "source": [
    "output[\"last_hidden_states\"]"
   ]
  },
  {
   "cell_type": "code",
   "execution_count": 11,
   "metadata": {},
   "outputs": [
    {
     "data": {
      "text/plain": [
       "torch.Size([32, 144, 7])"
      ]
     },
     "execution_count": 11,
     "metadata": {},
     "output_type": "execute_result"
    }
   ],
   "source": [
    "batch[\"future_values\"].shape"
   ]
  },
  {
   "cell_type": "code",
   "execution_count": null,
   "metadata": {},
   "outputs": [],
   "source": []
  }
 ],
 "metadata": {
  "kernelspec": {
   "display_name": "finsim",
   "language": "python",
   "name": "python3"
  },
  "language_info": {
   "codemirror_mode": {
    "name": "ipython",
    "version": 3
   },
   "file_extension": ".py",
   "mimetype": "text/x-python",
   "name": "python",
   "nbconvert_exporter": "python",
   "pygments_lexer": "ipython3",
   "version": "3.9.16"
  }
 },
 "nbformat": 4,
 "nbformat_minor": 2
}
